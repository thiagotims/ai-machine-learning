{
  "nbformat": 4,
  "nbformat_minor": 0,
  "metadata": {
    "colab": {
      "provenance": [],
      "gpuType": "T4"
    },
    "kernelspec": {
      "name": "python3",
      "display_name": "Python 3"
    },
    "language_info": {
      "name": "python"
    },
    "accelerator": "GPU"
  },
  "cells": [
    {
      "cell_type": "markdown",
      "source": [
        "# Projeto: treinamento da Rede Yolo com dataset Coco128"
      ],
      "metadata": {
        "id": "tCdgoFxNK6gN"
      }
    },
    {
      "cell_type": "markdown",
      "source": [
        "## 1 Montar as pastas e criar o arquivo yaml"
      ],
      "metadata": {
        "id": "XuK7ezlfnz9x"
      }
    },
    {
      "cell_type": "code",
      "execution_count": null,
      "metadata": {
        "id": "lzFgF0g5lbhI"
      },
      "outputs": [],
      "source": [
        "# Montar o Google Drive\n",
        "from google.colab import drive\n",
        "drive.mount('/content/drive', force_remount=True)\n",
        "\n",
        "# Definir caminho da pasta coco128 no Google Drive\n",
        "import os\n",
        "\n",
        "base_path = \"/content/drive/MyDrive/coco128\"\n",
        "os.makedirs(base_path, exist_ok=True)\n",
        "\n",
        "# Criar coco128.yaml\n",
        "yaml_content = \"\"\"path: /content/drive/MyDrive/coco128\n",
        "\n",
        "train: images/train2017\n",
        "val: images/train2017  # aqui usamos o mesmo conjunto como validação\n",
        "\n",
        "names:\n",
        "  0: person\n",
        "  1: bicycle\n",
        "  2: car\n",
        "  3: motorcycle\n",
        "  4: airplane\n",
        "  5: bus\n",
        "  6: train\n",
        "  7: truck\n",
        "  8: boat\n",
        "  9: traffic light\n",
        "  10: fire hydrant\n",
        "  11: stop sign\n",
        "  12: parking meter\n",
        "  13: bench\n",
        "  14: bird\n",
        "  15: cat\n",
        "  16: dog\n",
        "  17: horse\n",
        "  18: sheep\n",
        "  19: cow\n",
        "  20: elephant\n",
        "  21: bear\n",
        "  22: zebra\n",
        "  23: giraffe\n",
        "  24: backpack\n",
        "  25: umbrella\n",
        "  26: handbag\n",
        "  27: tie\n",
        "  28: suitcase\n",
        "  29: frisbee\n",
        "  30: skis\n",
        "  31: snowboard\n",
        "  32: sports ball\n",
        "  33: kite\n",
        "  34: baseball bat\n",
        "  35: baseball glove\n",
        "  36: skateboard\n",
        "  37: surfboard\n",
        "  38: tennis racket\n",
        "  39: bottle\n",
        "  40: wine glass\n",
        "  41: cup\n",
        "  42: fork\n",
        "  43: knife\n",
        "  44: spoon\n",
        "  45: bowl\n",
        "  46: banana\n",
        "  47: apple\n",
        "  48: sandwich\n",
        "  49: orange\n",
        "  50: broccoli\n",
        "  51: carrot\n",
        "  52: hot dog\n",
        "  53: pizza\n",
        "  54: donut\n",
        "  55: cake\n",
        "  56: chair\n",
        "  57: couch\n",
        "  58: potted plant\n",
        "  59: bed\n",
        "  60: dining table\n",
        "  61: toilet\n",
        "  62: tv\n",
        "  63: laptop\n",
        "  64: mouse\n",
        "  65: remote\n",
        "  66: keyboard\n",
        "  67: cell phone\n",
        "  68: microwave\n",
        "  69: oven\n",
        "  70: toaster\n",
        "  71: sink\n",
        "  72: refrigerator\n",
        "  73: book\n",
        "  74: clock\n",
        "  75: vase\n",
        "  76: scissors\n",
        "  77: teddy bear\n",
        "  78: hair drier\n",
        "  79: toothbrush\n",
        "\"\"\"\n",
        "\n",
        "yaml_path = os.path.join(base_path, \"coco128.yaml\")\n",
        "with open(yaml_path, \"w\") as f:\n",
        "    f.write(yaml_content)\n",
        "\n",
        "print(f\"✅ Arquivo coco128.yaml criado em: {yaml_path}\")"
      ]
    },
    {
      "cell_type": "markdown",
      "source": [
        "## 2 Instalar YOLOv8"
      ],
      "metadata": {
        "id": "iwZRHBhQDzgd"
      }
    },
    {
      "cell_type": "code",
      "source": [
        "# Instalar YOLOv8 (Ultralytics)\n",
        "!pip install ultralytics"
      ],
      "metadata": {
        "colab": {
          "base_uri": "https://localhost:8080/"
        },
        "id": "ZCGbUNbbofb6",
        "outputId": "46e0d3ac-4140-4f5e-84c9-ccdd09172352"
      },
      "execution_count": 14,
      "outputs": [
        {
          "output_type": "stream",
          "name": "stdout",
          "text": [
            "Requirement already satisfied: ultralytics in /usr/local/lib/python3.12/dist-packages (8.3.189)\n",
            "Requirement already satisfied: numpy>=1.23.0 in /usr/local/lib/python3.12/dist-packages (from ultralytics) (2.0.2)\n",
            "Requirement already satisfied: matplotlib>=3.3.0 in /usr/local/lib/python3.12/dist-packages (from ultralytics) (3.10.0)\n",
            "Requirement already satisfied: opencv-python>=4.6.0 in /usr/local/lib/python3.12/dist-packages (from ultralytics) (4.12.0.88)\n",
            "Requirement already satisfied: pillow>=7.1.2 in /usr/local/lib/python3.12/dist-packages (from ultralytics) (11.3.0)\n",
            "Requirement already satisfied: pyyaml>=5.3.1 in /usr/local/lib/python3.12/dist-packages (from ultralytics) (6.0.2)\n",
            "Requirement already satisfied: requests>=2.23.0 in /usr/local/lib/python3.12/dist-packages (from ultralytics) (2.32.4)\n",
            "Requirement already satisfied: scipy>=1.4.1 in /usr/local/lib/python3.12/dist-packages (from ultralytics) (1.16.1)\n",
            "Requirement already satisfied: torch>=1.8.0 in /usr/local/lib/python3.12/dist-packages (from ultralytics) (2.8.0+cu126)\n",
            "Requirement already satisfied: torchvision>=0.9.0 in /usr/local/lib/python3.12/dist-packages (from ultralytics) (0.23.0+cu126)\n",
            "Requirement already satisfied: psutil in /usr/local/lib/python3.12/dist-packages (from ultralytics) (5.9.5)\n",
            "Requirement already satisfied: py-cpuinfo in /usr/local/lib/python3.12/dist-packages (from ultralytics) (9.0.0)\n",
            "Requirement already satisfied: polars in /usr/local/lib/python3.12/dist-packages (from ultralytics) (1.25.2)\n",
            "Requirement already satisfied: ultralytics-thop>=2.0.0 in /usr/local/lib/python3.12/dist-packages (from ultralytics) (2.0.16)\n",
            "Requirement already satisfied: contourpy>=1.0.1 in /usr/local/lib/python3.12/dist-packages (from matplotlib>=3.3.0->ultralytics) (1.3.3)\n",
            "Requirement already satisfied: cycler>=0.10 in /usr/local/lib/python3.12/dist-packages (from matplotlib>=3.3.0->ultralytics) (0.12.1)\n",
            "Requirement already satisfied: fonttools>=4.22.0 in /usr/local/lib/python3.12/dist-packages (from matplotlib>=3.3.0->ultralytics) (4.59.1)\n",
            "Requirement already satisfied: kiwisolver>=1.3.1 in /usr/local/lib/python3.12/dist-packages (from matplotlib>=3.3.0->ultralytics) (1.4.9)\n",
            "Requirement already satisfied: packaging>=20.0 in /usr/local/lib/python3.12/dist-packages (from matplotlib>=3.3.0->ultralytics) (25.0)\n",
            "Requirement already satisfied: pyparsing>=2.3.1 in /usr/local/lib/python3.12/dist-packages (from matplotlib>=3.3.0->ultralytics) (3.2.3)\n",
            "Requirement already satisfied: python-dateutil>=2.7 in /usr/local/lib/python3.12/dist-packages (from matplotlib>=3.3.0->ultralytics) (2.9.0.post0)\n",
            "Requirement already satisfied: charset_normalizer<4,>=2 in /usr/local/lib/python3.12/dist-packages (from requests>=2.23.0->ultralytics) (3.4.3)\n",
            "Requirement already satisfied: idna<4,>=2.5 in /usr/local/lib/python3.12/dist-packages (from requests>=2.23.0->ultralytics) (3.10)\n",
            "Requirement already satisfied: urllib3<3,>=1.21.1 in /usr/local/lib/python3.12/dist-packages (from requests>=2.23.0->ultralytics) (2.5.0)\n",
            "Requirement already satisfied: certifi>=2017.4.17 in /usr/local/lib/python3.12/dist-packages (from requests>=2.23.0->ultralytics) (2025.8.3)\n",
            "Requirement already satisfied: filelock in /usr/local/lib/python3.12/dist-packages (from torch>=1.8.0->ultralytics) (3.19.1)\n",
            "Requirement already satisfied: typing-extensions>=4.10.0 in /usr/local/lib/python3.12/dist-packages (from torch>=1.8.0->ultralytics) (4.15.0)\n",
            "Requirement already satisfied: setuptools in /usr/local/lib/python3.12/dist-packages (from torch>=1.8.0->ultralytics) (75.2.0)\n",
            "Requirement already satisfied: sympy>=1.13.3 in /usr/local/lib/python3.12/dist-packages (from torch>=1.8.0->ultralytics) (1.13.3)\n",
            "Requirement already satisfied: networkx in /usr/local/lib/python3.12/dist-packages (from torch>=1.8.0->ultralytics) (3.5)\n",
            "Requirement already satisfied: jinja2 in /usr/local/lib/python3.12/dist-packages (from torch>=1.8.0->ultralytics) (3.1.6)\n",
            "Requirement already satisfied: fsspec in /usr/local/lib/python3.12/dist-packages (from torch>=1.8.0->ultralytics) (2025.3.0)\n",
            "Requirement already satisfied: nvidia-cuda-nvrtc-cu12==12.6.77 in /usr/local/lib/python3.12/dist-packages (from torch>=1.8.0->ultralytics) (12.6.77)\n",
            "Requirement already satisfied: nvidia-cuda-runtime-cu12==12.6.77 in /usr/local/lib/python3.12/dist-packages (from torch>=1.8.0->ultralytics) (12.6.77)\n",
            "Requirement already satisfied: nvidia-cuda-cupti-cu12==12.6.80 in /usr/local/lib/python3.12/dist-packages (from torch>=1.8.0->ultralytics) (12.6.80)\n",
            "Requirement already satisfied: nvidia-cudnn-cu12==9.10.2.21 in /usr/local/lib/python3.12/dist-packages (from torch>=1.8.0->ultralytics) (9.10.2.21)\n",
            "Requirement already satisfied: nvidia-cublas-cu12==12.6.4.1 in /usr/local/lib/python3.12/dist-packages (from torch>=1.8.0->ultralytics) (12.6.4.1)\n",
            "Requirement already satisfied: nvidia-cufft-cu12==11.3.0.4 in /usr/local/lib/python3.12/dist-packages (from torch>=1.8.0->ultralytics) (11.3.0.4)\n",
            "Requirement already satisfied: nvidia-curand-cu12==10.3.7.77 in /usr/local/lib/python3.12/dist-packages (from torch>=1.8.0->ultralytics) (10.3.7.77)\n",
            "Requirement already satisfied: nvidia-cusolver-cu12==11.7.1.2 in /usr/local/lib/python3.12/dist-packages (from torch>=1.8.0->ultralytics) (11.7.1.2)\n",
            "Requirement already satisfied: nvidia-cusparse-cu12==12.5.4.2 in /usr/local/lib/python3.12/dist-packages (from torch>=1.8.0->ultralytics) (12.5.4.2)\n",
            "Requirement already satisfied: nvidia-cusparselt-cu12==0.7.1 in /usr/local/lib/python3.12/dist-packages (from torch>=1.8.0->ultralytics) (0.7.1)\n",
            "Requirement already satisfied: nvidia-nccl-cu12==2.27.3 in /usr/local/lib/python3.12/dist-packages (from torch>=1.8.0->ultralytics) (2.27.3)\n",
            "Requirement already satisfied: nvidia-nvtx-cu12==12.6.77 in /usr/local/lib/python3.12/dist-packages (from torch>=1.8.0->ultralytics) (12.6.77)\n",
            "Requirement already satisfied: nvidia-nvjitlink-cu12==12.6.85 in /usr/local/lib/python3.12/dist-packages (from torch>=1.8.0->ultralytics) (12.6.85)\n",
            "Requirement already satisfied: nvidia-cufile-cu12==1.11.1.6 in /usr/local/lib/python3.12/dist-packages (from torch>=1.8.0->ultralytics) (1.11.1.6)\n",
            "Requirement already satisfied: triton==3.4.0 in /usr/local/lib/python3.12/dist-packages (from torch>=1.8.0->ultralytics) (3.4.0)\n",
            "Requirement already satisfied: six>=1.5 in /usr/local/lib/python3.12/dist-packages (from python-dateutil>=2.7->matplotlib>=3.3.0->ultralytics) (1.17.0)\n",
            "Requirement already satisfied: mpmath<1.4,>=1.1.0 in /usr/local/lib/python3.12/dist-packages (from sympy>=1.13.3->torch>=1.8.0->ultralytics) (1.3.0)\n",
            "Requirement already satisfied: MarkupSafe>=2.0 in /usr/local/lib/python3.12/dist-packages (from jinja2->torch>=1.8.0->ultralytics) (3.0.2)\n"
          ]
        }
      ]
    },
    {
      "cell_type": "markdown",
      "source": [
        "## 3 Importar biblioteca YOLO e definir caminho base"
      ],
      "metadata": {
        "id": "nbZGsdCjD-bG"
      }
    },
    {
      "cell_type": "code",
      "source": [
        "# Importar biblioteca YOLO e definir caminho base\n",
        "from ultralytics import YOLO\n",
        "import os, shutil"
      ],
      "metadata": {
        "id": "ie3W9P84ofYM"
      },
      "execution_count": 15,
      "outputs": []
    },
    {
      "cell_type": "code",
      "source": [
        "base_path = \"/content/drive/MyDrive/coco128\"\n",
        "runs_path = os.path.join(base_path, \"runs\")\n",
        "os.makedirs(runs_path, exist_ok=True)\n",
        "\n",
        "print(\"📂 Dataset localizado em:\", base_path)\n",
        "print(\"📂 Resultados serão salvos em:\", runs_path)"
      ],
      "metadata": {
        "colab": {
          "base_uri": "https://localhost:8080/"
        },
        "id": "NcQ5kFXYofTT",
        "outputId": "140e529a-ec74-4599-f467-9255047b49ee"
      },
      "execution_count": 16,
      "outputs": [
        {
          "output_type": "stream",
          "name": "stdout",
          "text": [
            "📂 Dataset localizado em: /content/drive/MyDrive/coco128\n",
            "📂 Resultados serão salvos em: /content/drive/MyDrive/coco128/runs\n"
          ]
        }
      ]
    },
    {
      "cell_type": "markdown",
      "source": [
        "## 4 Carregar modelo pré-treinado"
      ],
      "metadata": {
        "id": "N82VMmSaEIR3"
      }
    },
    {
      "cell_type": "code",
      "source": [
        "# Carregar modelo pré-treinado (nano = mais leve/rápido)\n",
        "model = YOLO(\"yolov8n.pt\")"
      ],
      "metadata": {
        "id": "onX4zZ9BofL3"
      },
      "execution_count": 17,
      "outputs": []
    },
    {
      "cell_type": "markdown",
      "source": [
        "## 5 Treinar modelo no coco128"
      ],
      "metadata": {
        "id": "TM7-5mEDESRg"
      }
    },
    {
      "cell_type": "code",
      "source": [
        "# Treinar modelo no coco128 (imagens + labels do Drive)\n",
        "results = model.train(\n",
        "    data=f\"{base_path}/coco128.yaml\",  # dataset.yaml no Drive\n",
        "    epochs=10,                         # número de épocas\n",
        "    imgsz=640,                         # tamanho das imagens\n",
        "    batch=16,                          # batch size\n",
        "    project=runs_path,                 # onde salvar\n",
        "    name=\"exp_coco128\"                 # nome da pasta do experimento\n",
        ")\n"
      ],
      "metadata": {
        "colab": {
          "base_uri": "https://localhost:8080/"
        },
        "id": "rcCdo-trofGv",
        "outputId": "9839f61d-4aa8-44dc-96f2-c22d05f441b9"
      },
      "execution_count": 27,
      "outputs": [
        {
          "output_type": "stream",
          "name": "stdout",
          "text": [
            "Ultralytics 8.3.189 🚀 Python-3.12.11 torch-2.8.0+cu126 CUDA:0 (Tesla T4, 15095MiB)\n",
            "\u001b[34m\u001b[1mengine/trainer: \u001b[0magnostic_nms=False, amp=True, augment=False, auto_augment=randaugment, batch=16, bgr=0.0, box=7.5, cache=False, cfg=None, classes=None, close_mosaic=10, cls=0.5, conf=None, copy_paste=0.0, copy_paste_mode=flip, cos_lr=False, cutmix=0.0, data=/content/drive/MyDrive/coco128/coco128.yaml, degrees=0.0, deterministic=True, device=None, dfl=1.5, dnn=False, dropout=0.0, dynamic=False, embed=None, epochs=10, erasing=0.4, exist_ok=False, fliplr=0.5, flipud=0.0, format=torchscript, fraction=1.0, freeze=None, half=False, hsv_h=0.015, hsv_s=0.7, hsv_v=0.4, imgsz=640, int8=False, iou=0.7, keras=False, kobj=1.0, line_width=None, lr0=0.01, lrf=0.01, mask_ratio=4, max_det=300, mixup=0.0, mode=train, model=yolov8n.pt, momentum=0.937, mosaic=1.0, multi_scale=False, name=exp_coco128, nbs=64, nms=False, opset=None, optimize=False, optimizer=auto, overlap_mask=True, patience=100, perspective=0.0, plots=True, pose=12.0, pretrained=True, profile=False, project=/content/drive/MyDrive/coco128/runs, rect=False, resume=False, retina_masks=False, save=True, save_conf=False, save_crop=False, save_dir=/content/drive/MyDrive/coco128/runs/exp_coco128, save_frames=False, save_json=False, save_period=-1, save_txt=False, scale=0.5, seed=0, shear=0.0, show=False, show_boxes=True, show_conf=True, show_labels=True, simplify=True, single_cls=False, source=None, split=val, stream_buffer=False, task=detect, time=None, tracker=botsort.yaml, translate=0.1, val=True, verbose=True, vid_stride=1, visualize=False, warmup_bias_lr=0.1, warmup_epochs=3.0, warmup_momentum=0.8, weight_decay=0.0005, workers=8, workspace=None\n",
            "\u001b[KDownloading https://ultralytics.com/assets/Arial.ttf to '/root/.config/Ultralytics/Arial.ttf': 100% ━━━━━━━━━━━━ 755.1/755.1KB 24.4MB/s 0.0s\n",
            "\n",
            "                   from  n    params  module                                       arguments                     \n",
            "  0                  -1  1       464  ultralytics.nn.modules.conv.Conv             [3, 16, 3, 2]                 \n",
            "  1                  -1  1      4672  ultralytics.nn.modules.conv.Conv             [16, 32, 3, 2]                \n",
            "  2                  -1  1      7360  ultralytics.nn.modules.block.C2f             [32, 32, 1, True]             \n",
            "  3                  -1  1     18560  ultralytics.nn.modules.conv.Conv             [32, 64, 3, 2]                \n",
            "  4                  -1  2     49664  ultralytics.nn.modules.block.C2f             [64, 64, 2, True]             \n",
            "  5                  -1  1     73984  ultralytics.nn.modules.conv.Conv             [64, 128, 3, 2]               \n",
            "  6                  -1  2    197632  ultralytics.nn.modules.block.C2f             [128, 128, 2, True]           \n",
            "  7                  -1  1    295424  ultralytics.nn.modules.conv.Conv             [128, 256, 3, 2]              \n",
            "  8                  -1  1    460288  ultralytics.nn.modules.block.C2f             [256, 256, 1, True]           \n",
            "  9                  -1  1    164608  ultralytics.nn.modules.block.SPPF            [256, 256, 5]                 \n",
            " 10                  -1  1         0  torch.nn.modules.upsampling.Upsample         [None, 2, 'nearest']          \n",
            " 11             [-1, 6]  1         0  ultralytics.nn.modules.conv.Concat           [1]                           \n",
            " 12                  -1  1    148224  ultralytics.nn.modules.block.C2f             [384, 128, 1]                 \n",
            " 13                  -1  1         0  torch.nn.modules.upsampling.Upsample         [None, 2, 'nearest']          \n",
            " 14             [-1, 4]  1         0  ultralytics.nn.modules.conv.Concat           [1]                           \n",
            " 15                  -1  1     37248  ultralytics.nn.modules.block.C2f             [192, 64, 1]                  \n",
            " 16                  -1  1     36992  ultralytics.nn.modules.conv.Conv             [64, 64, 3, 2]                \n",
            " 17            [-1, 12]  1         0  ultralytics.nn.modules.conv.Concat           [1]                           \n",
            " 18                  -1  1    123648  ultralytics.nn.modules.block.C2f             [192, 128, 1]                 \n",
            " 19                  -1  1    147712  ultralytics.nn.modules.conv.Conv             [128, 128, 3, 2]              \n",
            " 20             [-1, 9]  1         0  ultralytics.nn.modules.conv.Concat           [1]                           \n",
            " 21                  -1  1    493056  ultralytics.nn.modules.block.C2f             [384, 256, 1]                 \n",
            " 22        [15, 18, 21]  1    897664  ultralytics.nn.modules.head.Detect           [80, [64, 128, 256]]          \n",
            "Model summary: 129 layers, 3,157,200 parameters, 3,157,184 gradients, 8.9 GFLOPs\n",
            "\n",
            "Transferred 355/355 items from pretrained weights\n",
            "Freezing layer 'model.22.dfl.conv.weight'\n",
            "\u001b[34m\u001b[1mAMP: \u001b[0mrunning Automatic Mixed Precision (AMP) checks...\n",
            "\u001b[KDownloading https://github.com/ultralytics/assets/releases/download/v8.3.0/yolo11n.pt to 'yolo11n.pt': 100% ━━━━━━━━━━━━ 5.4/5.4MB 105.7MB/s 0.1s\n",
            "\u001b[34m\u001b[1mAMP: \u001b[0mchecks passed ✅\n",
            "\u001b[34m\u001b[1mtrain: \u001b[0mFast image access ✅ (ping: 0.7±0.7 ms, read: 4.5±9.7 MB/s, size: 50.9 KB)\n",
            "\u001b[K\u001b[34m\u001b[1mtrain: \u001b[0mScanning /content/drive/MyDrive/coco128/labels/train2017... 126 images, 2 backgrounds, 0 corrupt: 100% ━━━━━━━━━━━━ 128/128 4.6it/s 28.0s\n",
            "\u001b[34m\u001b[1mtrain: \u001b[0mNew cache created: /content/drive/MyDrive/coco128/labels/train2017.cache\n",
            "\u001b[34m\u001b[1malbumentations: \u001b[0mBlur(p=0.01, blur_limit=(3, 7)), MedianBlur(p=0.01, blur_limit=(3, 7)), ToGray(p=0.01, method='weighted_average', num_output_channels=3), CLAHE(p=0.01, clip_limit=(1.0, 4.0), tile_grid_size=(8, 8))\n",
            "\u001b[34m\u001b[1mval: \u001b[0mFast image access ✅ (ping: 0.6±0.2 ms, read: 17.6±14.8 MB/s, size: 52.5 KB)\n",
            "\u001b[K\u001b[34m\u001b[1mval: \u001b[0mScanning /content/drive/MyDrive/coco128/labels/train2017.cache... 126 images, 2 backgrounds, 0 corrupt: 100% ━━━━━━━━━━━━ 128/128 123079.1it/s 0.0s\n",
            "Plotting labels to /content/drive/MyDrive/coco128/runs/exp_coco128/labels.jpg... \n",
            "\u001b[34m\u001b[1moptimizer:\u001b[0m 'optimizer=auto' found, ignoring 'lr0=0.01' and 'momentum=0.937' and determining best 'optimizer', 'lr0' and 'momentum' automatically... \n",
            "\u001b[34m\u001b[1moptimizer:\u001b[0m AdamW(lr=0.000119, momentum=0.9) with parameter groups 57 weight(decay=0.0), 64 weight(decay=0.0005), 63 bias(decay=0.0)\n",
            "Image sizes 640 train, 640 val\n",
            "Using 2 dataloader workers\n",
            "Logging results to \u001b[1m/content/drive/MyDrive/coco128/runs/exp_coco128\u001b[0m\n",
            "Starting training for 10 epochs...\n",
            "Closing dataloader mosaic\n",
            "\u001b[34m\u001b[1malbumentations: \u001b[0mBlur(p=0.01, blur_limit=(3, 7)), MedianBlur(p=0.01, blur_limit=(3, 7)), ToGray(p=0.01, method='weighted_average', num_output_channels=3), CLAHE(p=0.01, clip_limit=(1.0, 4.0), tile_grid_size=(8, 8))\n",
            "\n",
            "      Epoch    GPU_mem   box_loss   cls_loss   dfl_loss  Instances       Size\n",
            "\u001b[K       1/10      2.31G      1.185      1.381      1.194         83        640: 100% ━━━━━━━━━━━━ 8/8 1.2it/s 6.5s\n",
            "\u001b[K                 Class     Images  Instances      Box(P          R      mAP50  mAP50-95): 100% ━━━━━━━━━━━━ 4/4 1.3it/s 3.0s\n",
            "                   all        128        929       0.62      0.577      0.607      0.448\n",
            "\n",
            "      Epoch    GPU_mem   box_loss   cls_loss   dfl_loss  Instances       Size\n",
            "\u001b[K       2/10      3.71G      1.158      1.322      1.213        120        640: 100% ━━━━━━━━━━━━ 8/8 3.8it/s 2.1s\n",
            "\u001b[K                 Class     Images  Instances      Box(P          R      mAP50  mAP50-95): 100% ━━━━━━━━━━━━ 4/4 3.3it/s 1.2s\n",
            "                   all        128        929      0.639       0.58      0.617       0.46\n",
            "\n",
            "      Epoch    GPU_mem   box_loss   cls_loss   dfl_loss  Instances       Size\n",
            "\u001b[K       3/10      3.72G      1.168      1.286      1.182        115        640: 100% ━━━━━━━━━━━━ 8/8 4.1it/s 1.9s\n",
            "\u001b[K                 Class     Images  Instances      Box(P          R      mAP50  mAP50-95): 100% ━━━━━━━━━━━━ 4/4 2.3it/s 1.8s\n",
            "                   all        128        929      0.669      0.568      0.632      0.472\n",
            "\n",
            "      Epoch    GPU_mem   box_loss   cls_loss   dfl_loss  Instances       Size\n",
            "\u001b[K       4/10      3.72G       1.14      1.292      1.189        116        640: 100% ━━━━━━━━━━━━ 8/8 4.4it/s 1.8s\n",
            "\u001b[K                 Class     Images  Instances      Box(P          R      mAP50  mAP50-95): 100% ━━━━━━━━━━━━ 4/4 3.2it/s 1.2s\n",
            "                   all        128        929      0.664      0.591      0.647      0.485\n",
            "\n",
            "      Epoch    GPU_mem   box_loss   cls_loss   dfl_loss  Instances       Size\n",
            "\u001b[K       5/10      3.74G       1.14      1.243      1.207         68        640: 100% ━━━━━━━━━━━━ 8/8 4.8it/s 1.7s\n",
            "\u001b[K                 Class     Images  Instances      Box(P          R      mAP50  mAP50-95): 100% ━━━━━━━━━━━━ 4/4 3.9it/s 1.0s\n",
            "                   all        128        929      0.662      0.618      0.665      0.502\n",
            "\n",
            "      Epoch    GPU_mem   box_loss   cls_loss   dfl_loss  Instances       Size\n",
            "\u001b[K       6/10      3.74G      1.143      1.221      1.186         92        640: 100% ━━━━━━━━━━━━ 8/8 4.6it/s 1.7s\n",
            "\u001b[K                 Class     Images  Instances      Box(P          R      mAP50  mAP50-95): 100% ━━━━━━━━━━━━ 4/4 3.9it/s 1.0s\n",
            "                   all        128        929      0.679      0.624      0.677      0.508\n",
            "\n",
            "      Epoch    GPU_mem   box_loss   cls_loss   dfl_loss  Instances       Size\n",
            "\u001b[K       7/10      3.74G      1.115       1.16       1.18        117        640: 100% ━━━━━━━━━━━━ 8/8 4.5it/s 1.8s\n",
            "\u001b[K                 Class     Images  Instances      Box(P          R      mAP50  mAP50-95): 100% ━━━━━━━━━━━━ 4/4 2.3it/s 1.7s\n",
            "                   all        128        929      0.668      0.646       0.68      0.514\n",
            "\n",
            "      Epoch    GPU_mem   box_loss   cls_loss   dfl_loss  Instances       Size\n",
            "\u001b[K       8/10      3.76G      1.099      1.164      1.169         66        640: 100% ━━━━━━━━━━━━ 8/8 4.2it/s 1.9s\n",
            "\u001b[K                 Class     Images  Instances      Box(P          R      mAP50  mAP50-95): 100% ━━━━━━━━━━━━ 4/4 3.5it/s 1.2s\n",
            "                   all        128        929      0.677      0.655      0.687      0.518\n",
            "\n",
            "      Epoch    GPU_mem   box_loss   cls_loss   dfl_loss  Instances       Size\n",
            "\u001b[K       9/10      3.76G      1.169      1.179      1.197        147        640: 100% ━━━━━━━━━━━━ 8/8 4.7it/s 1.7s\n",
            "\u001b[K                 Class     Images  Instances      Box(P          R      mAP50  mAP50-95): 100% ━━━━━━━━━━━━ 4/4 4.0it/s 1.0s\n",
            "                   all        128        929      0.673      0.655      0.694      0.523\n",
            "\n",
            "      Epoch    GPU_mem   box_loss   cls_loss   dfl_loss  Instances       Size\n",
            "\u001b[K      10/10      3.78G       1.08      1.117      1.143        111        640: 100% ━━━━━━━━━━━━ 8/8 5.1it/s 1.6s\n",
            "\u001b[K                 Class     Images  Instances      Box(P          R      mAP50  mAP50-95): 100% ━━━━━━━━━━━━ 4/4 3.5it/s 1.1s\n",
            "                   all        128        929      0.673      0.654      0.697      0.524\n",
            "\n",
            "10 epochs completed in 0.012 hours.\n",
            "Optimizer stripped from /content/drive/MyDrive/coco128/runs/exp_coco128/weights/last.pt, 6.5MB\n",
            "Optimizer stripped from /content/drive/MyDrive/coco128/runs/exp_coco128/weights/best.pt, 6.5MB\n",
            "\n",
            "Validating /content/drive/MyDrive/coco128/runs/exp_coco128/weights/best.pt...\n",
            "Ultralytics 8.3.189 🚀 Python-3.12.11 torch-2.8.0+cu126 CUDA:0 (Tesla T4, 15095MiB)\n",
            "Model summary (fused): 72 layers, 3,151,904 parameters, 0 gradients, 8.7 GFLOPs\n",
            "\u001b[K                 Class     Images  Instances      Box(P          R      mAP50  mAP50-95): 100% ━━━━━━━━━━━━ 4/4 1.3it/s 3.1s\n",
            "                   all        128        929      0.674      0.652      0.697      0.524\n",
            "                person         61        254       0.78      0.686      0.777      0.565\n",
            "               bicycle          3          6      0.943      0.333      0.374      0.331\n",
            "                   car         12         46      0.575      0.239      0.315      0.197\n",
            "            motorcycle          4          5       0.64        0.8      0.906      0.746\n",
            "              airplane          5          6       0.77          1      0.972      0.841\n",
            "                   bus          5          7      0.787      0.714      0.722      0.665\n",
            "                 train          3          3      0.548          1      0.863      0.707\n",
            "                 truck          5         12      0.868      0.417      0.528      0.363\n",
            "                  boat          2          6      0.473      0.333      0.619      0.384\n",
            "         traffic light          4         14      0.531      0.143      0.181      0.138\n",
            "             stop sign          2          2      0.715          1      0.995      0.658\n",
            "                 bench          5          9      0.775      0.556       0.68      0.451\n",
            "                  bird          2         16      0.829      0.911      0.949      0.636\n",
            "                   cat          4          4      0.878          1      0.995      0.821\n",
            "                   dog          9          9      0.728      0.889      0.934      0.749\n",
            "                 horse          1          2      0.554          1      0.995      0.597\n",
            "              elephant          4         17      0.799      0.941      0.958       0.75\n",
            "                  bear          1          1      0.594          1      0.995      0.995\n",
            "                 zebra          2          4       0.86          1      0.995      0.972\n",
            "               giraffe          4          9      0.845          1      0.995        0.8\n",
            "              backpack          4          6      0.584      0.333      0.428      0.284\n",
            "              umbrella          4         18      0.641      0.694      0.701      0.469\n",
            "               handbag          9         19      0.621      0.211      0.367      0.184\n",
            "                   tie          6          7      0.672      0.714      0.743      0.561\n",
            "              suitcase          2          4      0.699          1      0.995      0.699\n",
            "               frisbee          5          5      0.607        0.8      0.759      0.655\n",
            "                  skis          1          1       0.83          1      0.995      0.497\n",
            "             snowboard          2          7      0.713      0.711      0.823      0.515\n",
            "           sports ball          6          6       0.72        0.5      0.561      0.336\n",
            "                  kite          2         10      0.602        0.6      0.674      0.219\n",
            "          baseball bat          4          4      0.589       0.25      0.372      0.192\n",
            "        baseball glove          4          7      0.885      0.429      0.432      0.304\n",
            "            skateboard          3          5      0.841        0.6      0.621      0.447\n",
            "         tennis racket          5          7      0.583      0.429      0.592      0.337\n",
            "                bottle          6         18      0.468      0.343       0.39      0.264\n",
            "            wine glass          5         16      0.559      0.634      0.698      0.378\n",
            "                   cup         10         36      0.645      0.404      0.511      0.344\n",
            "                  fork          6          6      0.582      0.167      0.249      0.216\n",
            "                 knife          7         16      0.476      0.562      0.601      0.351\n",
            "                 spoon          5         22      0.611      0.364      0.403      0.257\n",
            "                  bowl          9         28      0.641      0.765      0.756       0.63\n",
            "                banana          1          1     0.0749      0.225      0.332     0.0719\n",
            "              sandwich          2          2      0.785          1      0.995      0.995\n",
            "                orange          1          4      0.765          1      0.796      0.561\n",
            "              broccoli          4         11      0.466      0.364      0.368      0.262\n",
            "                carrot          3         24      0.612      0.875      0.841      0.526\n",
            "               hot dog          1          2      0.553          1      0.995      0.995\n",
            "                 pizza          5          5      0.839          1      0.995       0.85\n",
            "                 donut          2         14      0.549          1       0.89      0.826\n",
            "                  cake          4          4      0.835          1      0.995      0.958\n",
            "                 chair          9         35      0.566      0.543      0.506      0.307\n",
            "                 couch          5          6      0.691      0.752      0.812       0.55\n",
            "          potted plant          9         14      0.848      0.786      0.818      0.544\n",
            "                   bed          3          3      0.713          1      0.995      0.797\n",
            "          dining table         10         13      0.479      0.538      0.618      0.481\n",
            "                toilet          2          2      0.896          1      0.995      0.946\n",
            "                    tv          2          2      0.635          1      0.995      0.846\n",
            "                laptop          2          3        0.8      0.667      0.789      0.686\n",
            "                 mouse          2          2          1          0     0.0589    0.00589\n",
            "                remote          5          8      0.813        0.5      0.593      0.508\n",
            "            cell phone          5          8          0          0     0.0659      0.036\n",
            "             microwave          3          3      0.712      0.667      0.913      0.791\n",
            "                  oven          5          5       0.75        0.6       0.55      0.415\n",
            "                  sink          4          6      0.523       0.19      0.382      0.283\n",
            "          refrigerator          5          5      0.669        0.4      0.792      0.664\n",
            "                  book          6         29      0.532      0.236      0.403      0.221\n",
            "                 clock          8          9      0.886      0.869      0.895       0.76\n",
            "                  vase          2          2      0.422          1      0.745      0.671\n",
            "              scissors          1          1          1          0      0.249     0.0746\n",
            "            teddy bear          6         21      0.595      0.619      0.735      0.486\n",
            "            toothbrush          2          5       0.81          1      0.962      0.578\n",
            "Speed: 0.4ms preprocess, 2.4ms inference, 0.0ms loss, 7.0ms postprocess per image\n",
            "Results saved to \u001b[1m/content/drive/MyDrive/coco128/runs/exp_coco128\u001b[0m\n"
          ]
        }
      ]
    },
    {
      "cell_type": "markdown",
      "source": [
        "## 6 Avaliar modelo no conjunto de validação"
      ],
      "metadata": {
        "id": "fBm3vBfTFI3K"
      }
    },
    {
      "cell_type": "code",
      "source": [
        "# Avaliar modelo no conjunto de validação\n",
        "metrics = model.val()\n"
      ],
      "metadata": {
        "colab": {
          "base_uri": "https://localhost:8080/"
        },
        "id": "dBH0sXiIofC5",
        "outputId": "a5db709b-d1b9-4cfc-acd2-126e82cf25b1"
      },
      "execution_count": 28,
      "outputs": [
        {
          "output_type": "stream",
          "name": "stdout",
          "text": [
            "Ultralytics 8.3.189 🚀 Python-3.12.11 torch-2.8.0+cu126 CUDA:0 (Tesla T4, 15095MiB)\n",
            "Model summary (fused): 72 layers, 3,151,904 parameters, 0 gradients, 8.7 GFLOPs\n",
            "\u001b[34m\u001b[1mval: \u001b[0mFast image access ✅ (ping: 0.4±0.2 ms, read: 26.5±9.2 MB/s, size: 53.4 KB)\n",
            "\u001b[K\u001b[34m\u001b[1mval: \u001b[0mScanning /content/drive/MyDrive/coco128/labels/train2017.cache... 126 images, 2 backgrounds, 0 corrupt: 100% ━━━━━━━━━━━━ 128/128 186090.4it/s 0.0s\n",
            "\u001b[K                 Class     Images  Instances      Box(P          R      mAP50  mAP50-95): 100% ━━━━━━━━━━━━ 8/8 1.9it/s 4.3s\n",
            "                   all        128        929      0.685      0.653      0.697      0.528\n",
            "                person         61        254      0.785       0.69      0.784      0.565\n",
            "               bicycle          3          6      0.929      0.333      0.392      0.345\n",
            "                   car         12         46      0.574      0.239      0.306      0.191\n",
            "            motorcycle          4          5      0.638        0.8      0.906      0.746\n",
            "              airplane          5          6      0.769          1      0.972      0.841\n",
            "                   bus          5          7      0.792      0.714      0.723      0.666\n",
            "                 train          3          3      0.546          1      0.863      0.707\n",
            "                 truck          5         12          1      0.474      0.539      0.369\n",
            "                  boat          2          6       0.58      0.333      0.563      0.334\n",
            "         traffic light          4         14       0.53      0.143      0.186      0.139\n",
            "             stop sign          2          2      0.714          1      0.995      0.657\n",
            "                 bench          5          9      0.773      0.556      0.682      0.453\n",
            "                  bird          2         16       0.83      0.917      0.949      0.646\n",
            "                   cat          4          4      0.831          1      0.995      0.821\n",
            "                   dog          9          9      0.668      0.889      0.934      0.749\n",
            "                 horse          1          2      0.552          1      0.995      0.597\n",
            "              elephant          4         17      0.799      0.941      0.958       0.75\n",
            "                  bear          1          1      0.592          1      0.995      0.995\n",
            "                 zebra          2          4      0.857          1      0.995      0.972\n",
            "               giraffe          4          9      0.835          1      0.962      0.801\n",
            "              backpack          4          6      0.583      0.333      0.459      0.298\n",
            "              umbrella          4         18      0.642      0.699      0.701      0.482\n",
            "               handbag          9         19      0.551      0.158      0.354      0.178\n",
            "                   tie          6          7       0.67      0.714       0.74      0.558\n",
            "              suitcase          2          4      0.699          1      0.995      0.699\n",
            "               frisbee          5          5      0.603        0.8      0.759      0.687\n",
            "                  skis          1          1      0.872          1      0.995      0.497\n",
            "             snowboard          2          7      0.714      0.712      0.717      0.506\n",
            "           sports ball          6          6      0.905        0.5      0.561      0.358\n",
            "                  kite          2         10      0.556        0.5      0.625      0.199\n",
            "          baseball bat          4          4      0.588       0.25      0.372      0.193\n",
            "        baseball glove          4          7      0.884      0.429      0.432      0.304\n",
            "            skateboard          3          5       0.85        0.6       0.62      0.427\n",
            "         tennis racket          5          7      0.525      0.286      0.569      0.359\n",
            "                bottle          6         18      0.548      0.404      0.409      0.267\n",
            "            wine glass          5         16      0.561      0.639      0.702      0.372\n",
            "                   cup         10         36      0.678       0.41      0.492      0.342\n",
            "                  fork          6          6      0.581      0.167      0.242      0.211\n",
            "                 knife          7         16      0.475      0.567      0.576      0.369\n",
            "                 spoon          5         22      0.567      0.364      0.403      0.255\n",
            "                  bowl          9         28      0.641      0.765      0.748      0.628\n",
            "                banana          1          1     0.0923      0.277      0.332     0.0426\n",
            "              sandwich          2          2      0.781          1      0.995      0.995\n",
            "                orange          1          4      0.762          1      0.796      0.561\n",
            "              broccoli          4         11      0.465      0.364      0.367      0.284\n",
            "                carrot          3         24      0.611      0.875      0.842      0.529\n",
            "               hot dog          1          2      0.553          1      0.995      0.995\n",
            "                 pizza          5          5      0.839          1      0.995       0.85\n",
            "                 donut          2         14      0.549          1      0.906      0.827\n",
            "                  cake          4          4      0.819          1      0.995      0.933\n",
            "                 chair          9         35      0.546      0.514       0.51      0.314\n",
            "                 couch          5          6      0.646      0.833      0.859       0.61\n",
            "          potted plant          9         14      0.684      0.786      0.772      0.525\n",
            "                   bed          3          3      0.804          1      0.995       0.83\n",
            "          dining table         10         13      0.509      0.538      0.584      0.454\n",
            "                toilet          2          2      0.893          1      0.995      0.946\n",
            "                    tv          2          2      0.642          1      0.995      0.896\n",
            "                laptop          2          3      0.797      0.667      0.755      0.696\n",
            "                 mouse          2          2          1          0     0.0492    0.00492\n",
            "                remote          5          8      0.813        0.5      0.622       0.51\n",
            "            cell phone          5          8      0.299      0.125      0.118     0.0719\n",
            "             microwave          3          3      0.712      0.667      0.913      0.791\n",
            "                  oven          5          5      0.742        0.6       0.55      0.415\n",
            "                  sink          4          6      0.546      0.213      0.382      0.264\n",
            "          refrigerator          5          5       0.67        0.4      0.792      0.657\n",
            "                  book          6         29      0.508      0.179      0.433      0.232\n",
            "                 clock          8          9      0.886      0.869      0.898       0.76\n",
            "                  vase          2          2      0.427          1      0.828      0.745\n",
            "              scissors          1          1          1          0      0.249     0.0746\n",
            "            teddy bear          6         21      0.731      0.714      0.773      0.468\n",
            "            toothbrush          2          5          1      0.941      0.995      0.669\n",
            "Speed: 4.1ms preprocess, 12.0ms inference, 0.0ms loss, 5.6ms postprocess per image\n",
            "Results saved to \u001b[1m/content/drive/MyDrive/coco128/runs/exp_coco1282\u001b[0m\n"
          ]
        }
      ]
    },
    {
      "cell_type": "markdown",
      "source": [
        "## 7 Testar o modelo em uma imagem do dataset"
      ],
      "metadata": {
        "id": "PkH27ZGdFRQ9"
      }
    },
    {
      "cell_type": "code",
      "source": [
        "# Testar o modelo em uma imagem do dataset\n",
        "test_image = f\"{base_path}/images/train2017/000000000625.jpg\"  # trocar imagem aqui\n",
        "results = model.predict(source=test_image, save=True, imgsz=640, project=runs_path, name=\"predictions\")\n",
        "\n",
        "print(\"✅ Treinamento finalizado!\")\n",
        "print(f\"📂 Modelos e resultados salvos em: {runs_path}\")\n"
      ],
      "metadata": {
        "colab": {
          "base_uri": "https://localhost:8080/"
        },
        "id": "uGIQK-ajoe-q",
        "outputId": "510e9647-5a86-42fb-f0ec-624b5088ccea"
      },
      "execution_count": 29,
      "outputs": [
        {
          "output_type": "stream",
          "name": "stdout",
          "text": [
            "\n",
            "image 1/1 /content/drive/MyDrive/coco128/images/train2017/000000000625.jpg: 448x640 3 persons, 1 frisbee, 44.5ms\n",
            "Speed: 1.2ms preprocess, 44.5ms inference, 1.6ms postprocess per image at shape (1, 3, 448, 640)\n",
            "Results saved to \u001b[1m/content/drive/MyDrive/coco128/runs/predictions\u001b[0m\n",
            "✅ Treinamento finalizado!\n",
            "📂 Modelos e resultados salvos em: /content/drive/MyDrive/coco128/runs\n"
          ]
        }
      ]
    }
  ]
}