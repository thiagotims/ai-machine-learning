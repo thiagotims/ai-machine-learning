{
  "cells": [
    {
      "cell_type": "markdown",
      "metadata": {
        "id": "Ja91pHvXAT8c"
      },
      "source": [
        "# Teste do Pacote de Processamento de Imagens\n",
        "test to verify the operation of the application\n",
        "\n"
      ]
    },
    {
      "cell_type": "markdown",
      "metadata": {},
      "source": [
        "### Import modules"
      ]
    },
    {
      "cell_type": "code",
      "execution_count": null,
      "metadata": {
        "id": "lmaLjBgqAMpj"
      },
      "outputs": [],
      "source": [
        "from image_processing.utils import io, plot\n",
        "from image_processing.processing import combination, transformation"
      ]
    },
    {
      "cell_type": "markdown",
      "metadata": {},
      "source": [
        "### Load images"
      ]
    },
    {
      "cell_type": "code",
      "execution_count": null,
      "metadata": {
        "id": "Bcli4H-eAmN0"
      },
      "outputs": [],
      "source": [
        "image1 = io.read_image(\"path\")\n",
        "image2 = io.read_image(\"path\")"
      ]
    },
    {
      "cell_type": "markdown",
      "metadata": {},
      "source": [
        "### Plot images"
      ]
    },
    {
      "cell_type": "code",
      "execution_count": null,
      "metadata": {
        "id": "CwXgv4jtAor-"
      },
      "outputs": [],
      "source": [
        "plot.plot_image(image1)\n",
        "plot.plot_image(image2)"
      ]
    },
    {
      "cell_type": "markdown",
      "metadata": {},
      "source": [
        "### Combine and transform images"
      ]
    },
    {
      "cell_type": "code",
      "execution_count": null,
      "metadata": {
        "id": "gHD0CI5SAsw8"
      },
      "outputs": [],
      "source": [
        "result_image = combination.transfer_histogram(image1, image2)\n",
        "plot.plot_result(image1, image2, result_image)"
      ]
    }
  ],
  "metadata": {
    "colab": {
      "provenance": []
    },
    "kernelspec": {
      "display_name": "Python 3.10.6 64-bit",
      "language": "python",
      "name": "python3"
    },
    "language_info": {
      "name": "python",
      "version": "3.10.6"
    },
    "vscode": {
      "interpreter": {
        "hash": "916dbcbb3f70747c44a77c7bcd40155683ae19c65e1c03b4aa3499c5328201f1"
      }
    }
  },
  "nbformat": 4,
  "nbformat_minor": 0
}
