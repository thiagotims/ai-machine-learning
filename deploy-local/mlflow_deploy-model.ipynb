{
 "cells": [
  {
   "cell_type": "markdown",
   "metadata": {},
   "source": [
    "# 🎯 MLflow Credit Scoring: Deploy de Modelo com API Local"
   ]
  },
  {
   "cell_type": "markdown",
   "metadata": {},
   "source": [
    "#### 📅 Importações"
   ]
  },
  {
   "cell_type": "code",
   "execution_count": null,
   "metadata": {},
   "outputs": [],
   "source": [
    "import requests\n",
    "import pandas as pd\n",
    "import json "
   ]
  },
  {
   "cell_type": "markdown",
   "metadata": {},
   "source": [
    "#### 🧹 Pré-processamento dos dados\n"
   ]
  },
  {
   "cell_type": "code",
   "execution_count": 15,
   "metadata": {},
   "outputs": [],
   "source": [
    "credito = pd.read_csv(\"Credit.csv\")"
   ]
  },
  {
   "cell_type": "code",
   "execution_count": 16,
   "metadata": {},
   "outputs": [],
   "source": [
    "for col in credito.columns:\n",
    "    if credito[col].dtype == 'object':\n",
    "        credito[col] = credito[col].astype('category').cat.codes"
   ]
  },
  {
   "cell_type": "markdown",
   "metadata": {},
   "source": [
    "#### 📆 Empacotamento dos dados para a API\n"
   ]
  },
  {
   "cell_type": "code",
   "execution_count": null,
   "metadata": {},
   "outputs": [],
   "source": [
    "dados = {\n",
    "    \"dataframe_split\": credito.iloc[0:10, 0:20].to_dict(orient='split')\n",
    "}"
   ]
  },
  {
   "cell_type": "code",
   "execution_count": 18,
   "metadata": {},
   "outputs": [
    {
     "data": {
      "text/plain": [
       "{'dataframe_split': {'index': [0, 1, 2, 3, 4, 5, 6, 7, 8, 9],\n",
       "  'columns': ['checking_status',\n",
       "   'duration',\n",
       "   'credit_history',\n",
       "   'purpose',\n",
       "   'credit_amount',\n",
       "   'savings_status',\n",
       "   'employment',\n",
       "   'installment_commitment',\n",
       "   'personal_status',\n",
       "   'other_parties',\n",
       "   'residence_since',\n",
       "   'property_magnitude',\n",
       "   'age',\n",
       "   'other_payment_plans',\n",
       "   'housing',\n",
       "   'existing_credits',\n",
       "   'job',\n",
       "   'num_dependents',\n",
       "   'own_telephone',\n",
       "   'foreign_worker'],\n",
       "  'data': [[2, 6, 1, 7, 1169, 0, 3, 4, 3, 2, 4, 2, 67, 1, 1, 2, 3, 1, 1, 1],\n",
       "   [1, 48, 3, 7, 5951, 3, 0, 2, 0, 2, 2, 2, 22, 1, 1, 1, 3, 1, 0, 1],\n",
       "   [0, 12, 1, 4, 2096, 3, 1, 2, 3, 2, 3, 2, 49, 1, 1, 1, 2, 2, 0, 1],\n",
       "   [2, 42, 3, 5, 7882, 3, 1, 2, 3, 1, 4, 0, 45, 1, 0, 1, 3, 2, 0, 1],\n",
       "   [2, 24, 2, 1, 4870, 3, 0, 3, 3, 2, 4, 1, 53, 1, 0, 2, 3, 2, 0, 1],\n",
       "   [0, 36, 3, 4, 9055, 0, 0, 2, 3, 2, 4, 1, 35, 1, 0, 1, 2, 2, 1, 1],\n",
       "   [0, 24, 3, 5, 2835, 2, 3, 3, 3, 2, 4, 0, 53, 1, 1, 1, 3, 1, 0, 1],\n",
       "   [1, 36, 3, 2, 6948, 3, 0, 2, 3, 2, 2, 3, 35, 1, 2, 1, 0, 1, 1, 1],\n",
       "   [0, 12, 3, 7, 3059, 4, 1, 2, 1, 2, 4, 2, 61, 1, 1, 1, 2, 1, 0, 1],\n",
       "   [1, 30, 1, 1, 5234, 3, 4, 4, 2, 2, 2, 3, 28, 1, 1, 2, 0, 1, 0, 1]]}}"
      ]
     },
     "execution_count": 18,
     "metadata": {},
     "output_type": "execute_result"
    }
   ],
   "source": [
    "dados"
   ]
  },
  {
   "cell_type": "markdown",
   "metadata": {},
   "source": [
    "#### 🔗 Envio da requisição à API local\n"
   ]
  },
  {
   "cell_type": "markdown",
   "metadata": {},
   "source": [
    "Antes executar no terminal : `mlflow models serve -m mlruns/248023669399077196/349d8ecb91444936b6c109624bfb2af2/artifacts/ModeloRF -p 2345 --no-conda`\n"
   ]
  },
  {
   "cell_type": "code",
   "execution_count": null,
   "metadata": {},
   "outputs": [],
   "source": [
    "previsao = requests.post(\n",
    "    url='http://localhost:2345/invocations', \n",
    "    headers={'Content-Type': 'application/json'},\n",
    "    data=json.dumps(dados)\n",
    ")"
   ]
  },
  {
   "cell_type": "code",
   "execution_count": 20,
   "metadata": {},
   "outputs": [
    {
     "data": {
      "text/plain": [
       "<Response [200]>"
      ]
     },
     "execution_count": 20,
     "metadata": {},
     "output_type": "execute_result"
    }
   ],
   "source": [
    "previsao"
   ]
  },
  {
   "cell_type": "code",
   "execution_count": 21,
   "metadata": {},
   "outputs": [
    {
     "data": {
      "text/plain": [
       "'{\"predictions\": [1, 0, 1, 1, 1, 1, 1, 1, 1, 0]}'"
      ]
     },
     "execution_count": 21,
     "metadata": {},
     "output_type": "execute_result"
    }
   ],
   "source": [
    "previsao.text"
   ]
  },
  {
   "cell_type": "markdown",
   "metadata": {},
   "source": [
    "#### 📊 Tratamento e exibição da resposta\n"
   ]
  },
  {
   "cell_type": "code",
   "execution_count": null,
   "metadata": {},
   "outputs": [
    {
     "name": "stdout",
     "output_type": "stream",
     "text": [
      "               Previsão\n",
      "ID da Amostra          \n",
      "0                     1\n",
      "1                     0\n",
      "2                     1\n",
      "3                     1\n",
      "4                     1\n",
      "5                     1\n",
      "6                     1\n",
      "7                     1\n",
      "8                     1\n",
      "9                     0\n"
     ]
    }
   ],
   "source": [
    "#import json\n",
    "#import pandas as pd\n",
    "\n",
    "# Transforma o texto da resposta em dicionário\n",
    "resultado = json.loads(previsao.text)\n",
    "\n",
    "# Acessa as previsões\n",
    "previsoes = resultado.get(\"predictions\", [])\n",
    "\n",
    "# Coloca num DataFrame com index \n",
    "df_previsoes = pd.DataFrame(previsoes, columns=[\"Previsão\"])\n",
    "df_previsoes.index.name = \"ID da Amostra\"\n",
    "\n",
    "# Exibe o resultado\n",
    "print(df_previsoes)"
   ]
  }
 ],
 "metadata": {
  "kernelspec": {
   "display_name": "base",
   "language": "python",
   "name": "python3"
  },
  "language_info": {
   "codemirror_mode": {
    "name": "ipython",
    "version": 3
   },
   "file_extension": ".py",
   "mimetype": "text/x-python",
   "name": "python",
   "nbconvert_exporter": "python",
   "pygments_lexer": "ipython3",
   "version": "3.12.7"
  }
 },
 "nbformat": 4,
 "nbformat_minor": 4
}
