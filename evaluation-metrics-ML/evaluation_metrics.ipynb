{
 "cells": [
  {
   "cell_type": "markdown",
   "id": "165bc7d1",
   "metadata": {},
   "source": [
    " # Projeto: Cálculo de Métricas de Avaliação de Modelos de Machine Learning (com Sliders Interativos)"
   ]
  },
  {
   "cell_type": "markdown",
   "id": "b65442e3",
   "metadata": {},
   "source": [
    "## importar bibliotecas"
   ]
  },
  {
   "cell_type": "code",
   "execution_count": 3,
   "id": "c4d489de",
   "metadata": {},
   "outputs": [],
   "source": [
    "import matplotlib.pyplot as plt\n",
    "import seaborn as sns\n",
    "import numpy as np\n",
    "import ipywidgets as widgets\n",
    "from ipywidgets import interact"
   ]
  },
  {
   "cell_type": "markdown",
   "id": "d0e0be79",
   "metadata": {},
   "source": [
    "## funções para cálculo das métricas"
   ]
  },
  {
   "cell_type": "code",
   "execution_count": 4,
   "id": "f1b07336",
   "metadata": {},
   "outputs": [],
   "source": [
    "def sensibilidade(VP, FN):\n",
    "    return VP / (VP + FN) if (VP + FN) > 0 else 0\n",
    "\n",
    "def especificidade(VN, FP):\n",
    "    return VN / (FP + VN) if (FP + VN) > 0 else 0\n",
    "\n",
    "def acuracia(VP, VN, N):\n",
    "    return (VP + VN) / N if N > 0 else 0\n",
    "\n",
    "def precisao(VP, FP):\n",
    "    return VP / (VP + FP) if (VP + FP) > 0 else 0\n",
    "\n",
    "def f_score(P, S):\n",
    "    return 2 * (P * S) / (P + S) if (P + S) > 0 else 0"
   ]
  },
  {
   "cell_type": "markdown",
   "id": "94e6a9b3",
   "metadata": {},
   "source": [
    "## função principal para atualizar métricas e gráficos"
   ]
  },
  {
   "cell_type": "code",
   "execution_count": 5,
   "id": "04657ef9",
   "metadata": {},
   "outputs": [],
   "source": [
    "def calcular_metricas(VP, FN, FP, VN):\n",
    "    # Total de elementos\n",
    "    N = VP + FN + FP + VN\n",
    "\n",
    "    # Cálculo das métricas\n",
    "    S = sensibilidade(VP, FN)\n",
    "    E = especificidade(VN, FP)\n",
    "    A = acuracia(VP, VN, N)\n",
    "    P = precisao(VP, FP)\n",
    "    F = f_score(P, S)\n",
    "\n",
    "    # Exibindo os resultados\n",
    "    print(\"Matriz de Confusão:\")\n",
    "    print(f\"VP = {VP}, FN = {FN}, FP = {FP}, VN = {VN}\")\n",
    "    print(\"\\nMétricas de Avaliação:\")\n",
    "    print(f\"Sensibilidade (Recall): {S:.2f}\")\n",
    "    print(f\"Especificidade: {E:.2f}\")\n",
    "    print(f\"Acurácia: {A:.2f}\")\n",
    "    print(f\"Precisão: {P:.2f}\")\n",
    "    print(f\"F-score: {F:.2f}\")\n",
    "\n",
    "    # Visualização da Matriz de Confusão\n",
    "    matriz = np.array([[VP, FN], [FP, VN]])\n",
    "\n",
    "    plt.figure(figsize=(6, 5))\n",
    "    sns.heatmap(matriz, annot=True, fmt=\"d\", cmap=\"Blues\", xticklabels=[\"Positivo\", \"Negativo\"], yticklabels=[\"Positivo\", \"Negativo\"])\n",
    "    plt.title(\"Matriz de Confusão\")\n",
    "    plt.xlabel(\"Classe Real\")\n",
    "    plt.ylabel(\"Classe Prevista\")\n",
    "    plt.show()"
   ]
  },
  {
   "cell_type": "markdown",
   "id": "cdb37144",
   "metadata": {},
   "source": [
    "## sliders interativos"
   ]
  },
  {
   "cell_type": "code",
   "execution_count": null,
   "id": "c8eb727d",
   "metadata": {},
   "outputs": [
    {
     "data": {
      "application/vnd.jupyter.widget-view+json": {
       "model_id": "1e278f8cc13745c3b386be31cdee27e9",
       "version_major": 2,
       "version_minor": 0
      },
      "text/plain": [
       "interactive(children=(IntSlider(value=50, description='VP'), IntSlider(value=10, description='FN'), IntSlider(…"
      ]
     },
     "metadata": {},
     "output_type": "display_data"
    },
    {
     "data": {
      "text/plain": [
       "<function __main__.calcular_metricas(VP, FN, FP, VN)>"
      ]
     },
     "execution_count": 6,
     "metadata": {},
     "output_type": "execute_result"
    }
   ],
   "source": [
    "interact(\n",
    "    calcular_metricas,\n",
    "    VP=widgets.IntSlider(value=50, min=0, max=100, step=1, description='VP'),\n",
    "    FN=widgets.IntSlider(value=10, min=0, max=100, step=1, description='FN'),\n",
    "    FP=widgets.IntSlider(value=5, min=0, max=100, step=1, description='FP'),\n",
    "    VN=widgets.IntSlider(value=35, min=0, max=100, step=1, description='VN')\n",
    ")\n"
   ]
  }
 ],
 "metadata": {
  "kernelspec": {
   "display_name": "base",
   "language": "python",
   "name": "python3"
  },
  "language_info": {
   "codemirror_mode": {
    "name": "ipython",
    "version": 3
   },
   "file_extension": ".py",
   "mimetype": "text/x-python",
   "name": "python",
   "nbconvert_exporter": "python",
   "pygments_lexer": "ipython3",
   "version": "3.12.2"
  }
 },
 "nbformat": 4,
 "nbformat_minor": 5
}
