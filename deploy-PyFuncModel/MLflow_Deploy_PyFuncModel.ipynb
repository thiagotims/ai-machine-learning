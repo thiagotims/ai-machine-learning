{
 "cells": [
  {
   "cell_type": "markdown",
   "id": "c96393e9",
   "metadata": {},
   "source": [
    "# MLflow Credit Scoring: Deploy via PyFuncModel"
   ]
  },
  {
   "cell_type": "markdown",
   "id": "d2f723c5",
   "metadata": {},
   "source": [
    "_segue modelo proposto pelo mlflow_"
   ]
  },
  {
   "cell_type": "code",
   "execution_count": null,
   "id": "fc3a0f41",
   "metadata": {},
   "outputs": [],
   "source": [
    "# importing necessary libraries\n",
    "import mlflow\n",
    "import pandas as pd"
   ]
  },
  {
   "cell_type": "code",
   "execution_count": 6,
   "id": "b640be91",
   "metadata": {},
   "outputs": [],
   "source": [
    "# Carrega o dataset de exemplo (o mesmo usado no treinamento)\n",
    "credito = pd.read_csv(\"Credit.csv\")"
   ]
  },
  {
   "cell_type": "code",
   "execution_count": null,
   "id": "babf461b",
   "metadata": {},
   "outputs": [],
   "source": [
    "# Pré-processamento igual ao utilizado anteriormente\n",
    "for col in credito.columns: \n",
    "    if credito[col].dtype == 'object':\n",
    "        credito[col] = credito[col].astype('category').cat.codes"
   ]
  },
  {
   "cell_type": "code",
   "execution_count": 8,
   "id": "ef92588d",
   "metadata": {},
   "outputs": [],
   "source": [
    "# Usa uma amostra como dado de entrada\n",
    "input_data = credito.iloc[0:5, 0:20]  # 5 primeiras amostras, 20 primeiras features"
   ]
  },
  {
   "cell_type": "code",
   "execution_count": 9,
   "id": "f1e50ed1",
   "metadata": {},
   "outputs": [],
   "source": [
    "# URI do modelo salvo (usando o run_id e caminho do modelo como foi registrado)\n",
    "model_uri = 'runs:/349d8ecb91444936b6c109624bfb2af2/ModeloRF'"
   ]
  },
  {
   "cell_type": "code",
   "execution_count": 10,
   "id": "7aa3e079",
   "metadata": {},
   "outputs": [
    {
     "name": "stderr",
     "output_type": "stream",
     "text": [
      "2025/04/24 14:56:48 INFO mlflow.models.python_api: It is highly recommended to use `uv` as the environment manager for predicting with MLflow models as its performance is significantly better than other environment managers. Run `pip install uv` to install uv. See https://docs.astral.sh/uv/getting-started/installation for other installation methods.\n"
     ]
    },
    {
     "data": {
      "application/vnd.jupyter.widget-view+json": {
       "model_id": "1d5795e235434df084d3c09d51e3e535",
       "version_major": 2,
       "version_minor": 0
      },
      "text/plain": [
       "Downloading artifacts:   0%|          | 0/5 [00:00<?, ?it/s]"
      ]
     },
     "metadata": {},
     "output_type": "display_data"
    },
    {
     "name": "stderr",
     "output_type": "stream",
     "text": [
      "2025/04/24 14:56:48 INFO mlflow.models.flavor_backend_registry: Selected backend for flavor 'python_function'\n",
      "/home/thiago-tim/anaconda3/lib/python3.12/site-packages/sklearn/base.py:486: UserWarning: X has feature names, but RandomForestClassifier was fitted without feature names\n",
      "  warnings.warn(\n"
     ]
    },
    {
     "name": "stdout",
     "output_type": "stream",
     "text": [
      "{\"predictions\": [1, 0, 1, 1, 1]}"
     ]
    }
   ],
   "source": [
    "# ✅ Valida o modelo localmente (verifica se o modelo funciona com input de teste)\n",
    "mlflow.models.predict(\n",
    "    model_uri=model_uri,\n",
    "    input_data=input_data,\n",
    "    env_manager=\"local\"  # ou \"uv\", dependendo de como foi configurado\n",
    ")"
   ]
  },
  {
   "cell_type": "code",
   "execution_count": 11,
   "id": "70dd6b5e",
   "metadata": {},
   "outputs": [],
   "source": [
    "# ✅ Carrega o modelo como um PyFuncModel para uso direto em Python\n",
    "loaded_model = mlflow.pyfunc.load_model(model_uri)"
   ]
  },
  {
   "cell_type": "code",
   "execution_count": 12,
   "id": "8cafac27",
   "metadata": {},
   "outputs": [
    {
     "name": "stderr",
     "output_type": "stream",
     "text": [
      "/home/thiago-tim/anaconda3/lib/python3.12/site-packages/sklearn/base.py:486: UserWarning: X has feature names, but RandomForestClassifier was fitted without feature names\n",
      "  warnings.warn(\n"
     ]
    }
   ],
   "source": [
    "# Faz predições diretamente com um DataFrame pandas\n",
    "predicoes = loaded_model.predict(input_data)"
   ]
  },
  {
   "cell_type": "code",
   "execution_count": 13,
   "id": "7e2a02f1",
   "metadata": {},
   "outputs": [
    {
     "name": "stdout",
     "output_type": "stream",
     "text": [
      "               Previsão\n",
      "ID da Amostra          \n",
      "0                     1\n",
      "1                     0\n",
      "2                     1\n",
      "3                     1\n",
      "4                     1\n"
     ]
    }
   ],
   "source": [
    "# Exibe os resultados formatados\n",
    "resultado = pd.DataFrame(predicoes, columns=[\"Previsão\"])\n",
    "resultado.index.name = \"ID da Amostra\"\n",
    "print(resultado)\n"
   ]
  }
 ],
 "metadata": {
  "kernelspec": {
   "display_name": "base",
   "language": "python",
   "name": "python3"
  },
  "language_info": {
   "codemirror_mode": {
    "name": "ipython",
    "version": 3
   },
   "file_extension": ".py",
   "mimetype": "text/x-python",
   "name": "python",
   "nbconvert_exporter": "python",
   "pygments_lexer": "ipython3",
   "version": "3.12.7"
  }
 },
 "nbformat": 4,
 "nbformat_minor": 5
}
